{
 "cells": [
  {
   "cell_type": "markdown",
   "id": "a1229b61-b9a4-4a4e-b876-30e4f8b6220a",
   "metadata": {},
   "source": [
    "# Imports"
   ]
  },
  {
   "cell_type": "code",
   "execution_count": 1,
   "id": "b5f40373-9380-4796-89c7-aa0edad9a04e",
   "metadata": {
    "tags": []
   },
   "outputs": [],
   "source": [
    "from selenium import webdriver\n",
    "from selenium.webdriver.common.by import By\n",
    "from selenium.webdriver.common.keys import Keys\n",
    "import time\n",
    "import pandas as pd\n",
    "from sklearn.model_selection import train_test_split\n",
    "from sklearn.linear_model import LinearRegression\n",
    "from sklearn.metrics import mean_squared_error\n",
    "import matplotlib.pyplot as plt\n",
    "import numpy as np\n",
    "import mysql.connector\n",
    "import re "
   ]
  },
  {
   "cell_type": "markdown",
   "id": "360d3715-ebee-4216-ad4a-e354ec7448b5",
   "metadata": {},
   "source": [
    "# Functions"
   ]
  },
  {
   "cell_type": "markdown",
   "id": "dcae6a41-35fe-47d4-9f84-4eb4a7c2bdf6",
   "metadata": {},
   "source": [
    "## MySql table name check"
   ]
  },
  {
   "cell_type": "code",
   "execution_count": 2,
   "id": "3030d6b7-0156-4e92-9559-05bf28e36fdb",
   "metadata": {
    "tags": []
   },
   "outputs": [],
   "source": [
    "def sanitize_table_name(name):\n",
    "    sanitized_name = re.sub('[^a-zA-Z0-9_]', '', name)\n",
    "    return sanitized_name"
   ]
  },
  {
   "cell_type": "markdown",
   "id": "22220b1e-7bdb-4134-aee9-ab8790eed8fc",
   "metadata": {},
   "source": [
    "## DataFrame pre-processing"
   ]
  },
  {
   "cell_type": "code",
   "execution_count": 3,
   "id": "b5d9b95f-dbd0-4d91-a067-eaafbec5edff",
   "metadata": {
    "tags": []
   },
   "outputs": [],
   "source": [
    "def condition_binarize(condition):\n",
    "    if \"No accidents\" in condition:\n",
    "        return 0\n",
    "    else:\n",
    "        return 1\n",
    "\n",
    "def price_int(price):\n",
    "    return int(str.join(\"\",price.strip('$').split(',')))\n",
    "\n",
    "def mile_int(mile):\n",
    "    return int(str.join(\"\",mile.split(\" \")[0].split(\",\")))"
   ]
  },
  {
   "cell_type": "markdown",
   "id": "64c6a625-b70e-4a04-b506-a8d3b908f364",
   "metadata": {},
   "source": [
    "# Connecting to MySql "
   ]
  },
  {
   "cell_type": "code",
   "execution_count": null,
   "id": "1b0d060a-d3e8-4243-bebe-c8135a049236",
   "metadata": {
    "tags": []
   },
   "outputs": [],
   "source": [
    "cnx = mysql.connector.connect(user=input(\"database user: \"), password=input(\"database password: \"),\n",
    "                              host=input(\"database host: \"),\n",
    "                              database=input(\"database name: \"))"
   ]
  },
  {
   "cell_type": "markdown",
   "id": "da6766c7-70c9-477f-8672-f258d8f74a80",
   "metadata": {},
   "source": [
    "# Scraping and Transfering "
   ]
  },
  {
   "cell_type": "code",
   "execution_count": 5,
   "id": "0919cac2-c627-4e1f-a45c-4c73996795e4",
   "metadata": {
    "tags": []
   },
   "outputs": [
    {
     "name": "stdin",
     "output_type": "stream",
     "text": [
      "Enter a car name(for example bmw x5):  bmw x5\n"
     ]
    }
   ],
   "source": [
    "car_name = input(\"Enter a car name(for example bmw x5): \")\n",
    "sanitized_car_name = sanitize_table_name(car_name)\n",
    "\n",
    "\n",
    "driver = webdriver.Chrome()\n",
    "driver.get('https://www.truecar.com/')\n",
    "\n",
    "search_bar = driver.find_element(By.ID, 'homePageSearchBarLgOmnisearchSearchField')\n",
    "search_bar.clear()\n",
    "search_bar.send_keys(car_name[:5])\n",
    "time.sleep(1)\n",
    "search_bar.send_keys(car_name[5:])\n",
    "time.sleep(1)\n",
    "search_bar.send_keys(Keys.ENTER)\n",
    "\n",
    "time.sleep(5)\n",
    "driver.implicitly_wait(3)\n",
    "\n",
    "\n",
    "\n",
    "car = {\"miles\":[],\"price\":[],\"condition\":[]}\n",
    "for page in range(5):\n",
    "    prices = driver.find_elements(By.CSS_SELECTOR, '[data-test=\"vehicleCardPricingBlockPrice\"]')\n",
    "    miles = driver.find_elements(By.CSS_SELECTOR,'[data-test=\"vehicleMileage\"]')\n",
    "    car_conditions = driver.find_elements(By.CSS_SELECTOR,'[data-test=\"vehicleCardCondition\"]')\n",
    "\n",
    "    for price in prices:\n",
    "        p = price.text\n",
    "        try:\n",
    "            car[\"price\"].append(p.split('\\n')[-1])\n",
    "        except:\n",
    "            car['price'].append(p)\n",
    "\n",
    "\n",
    "    \n",
    "    for mile in miles:\n",
    "        car[\"miles\"].append(mile.text)\n",
    "\n",
    "    for condition in car_conditions:\n",
    "        car[\"condition\"].append(condition.text)\n",
    "\n",
    "\n",
    "    try:\n",
    "        next_page = driver.find_element(By.CSS_SELECTOR,'[data-test=\"Pagination-directional-next\"]')\n",
    "        next_page.click()\n",
    "        time.sleep(5)\n",
    "        driver.implicitly_wait(3)\n",
    "    except:\n",
    "           break\n",
    "\n",
    "\n",
    "\n",
    "car_df = pd.DataFrame(car) \n",
    "\n",
    "\n",
    "\n",
    "car_df['condition'] = car_df['condition'].apply(condition_binarize)\n",
    "car_df['price'] = car_df['price'].apply(price_int)\n",
    "car_df['miles'] = car_df['miles'].apply(mile_int)\n",
    "\n",
    "cursor = cnx.cursor()\n",
    "\n",
    "create_table = f\"\"\"\n",
    "    CREATE TABLE IF NOT EXISTS {sanitized_car_name} (\n",
    "        miles INT,\n",
    "        price INT,\n",
    "        `condition` INT\n",
    "    )\n",
    "\"\"\"\n",
    "cursor.execute(create_table)\n",
    "\n",
    "for i, row in car_df.iterrows():\n",
    "    sql = f\"INSERT INTO {sanitized_car_name} (miles, price, `condition`) VALUES (%s, %s, %s)\"\n",
    "    values = (int(row['miles']), int(row['price']), int(row['condition']))\n",
    "    cursor.execute(sql, values)\n",
    "    \n",
    "cnx.commit()\n",
    "cursor.close()\n",
    "cnx.close()\n",
    "driver.quit()"
   ]
  },
  {
   "cell_type": "markdown",
   "id": "2fea9b3d-3d83-440e-a0f9-91ab5b7446e5",
   "metadata": {},
   "source": [
    "# collected data"
   ]
  },
  {
   "cell_type": "code",
   "execution_count": 6,
   "id": "c1a1b32d-3e56-4bd0-8b03-e1c3a3c175d6",
   "metadata": {
    "tags": []
   },
   "outputs": [
    {
     "data": {
      "text/html": [
       "<div>\n",
       "<style scoped>\n",
       "    .dataframe tbody tr th:only-of-type {\n",
       "        vertical-align: middle;\n",
       "    }\n",
       "\n",
       "    .dataframe tbody tr th {\n",
       "        vertical-align: top;\n",
       "    }\n",
       "\n",
       "    .dataframe thead th {\n",
       "        text-align: right;\n",
       "    }\n",
       "</style>\n",
       "<table border=\"1\" class=\"dataframe\">\n",
       "  <thead>\n",
       "    <tr style=\"text-align: right;\">\n",
       "      <th></th>\n",
       "      <th>miles</th>\n",
       "      <th>price</th>\n",
       "      <th>condition</th>\n",
       "    </tr>\n",
       "  </thead>\n",
       "  <tbody>\n",
       "    <tr>\n",
       "      <th>0</th>\n",
       "      <td>62631</td>\n",
       "      <td>15300</td>\n",
       "      <td>0</td>\n",
       "    </tr>\n",
       "    <tr>\n",
       "      <th>1</th>\n",
       "      <td>43065</td>\n",
       "      <td>40995</td>\n",
       "      <td>0</td>\n",
       "    </tr>\n",
       "    <tr>\n",
       "      <th>2</th>\n",
       "      <td>48507</td>\n",
       "      <td>43795</td>\n",
       "      <td>0</td>\n",
       "    </tr>\n",
       "    <tr>\n",
       "      <th>3</th>\n",
       "      <td>111345</td>\n",
       "      <td>7995</td>\n",
       "      <td>0</td>\n",
       "    </tr>\n",
       "    <tr>\n",
       "      <th>4</th>\n",
       "      <td>38772</td>\n",
       "      <td>42998</td>\n",
       "      <td>0</td>\n",
       "    </tr>\n",
       "    <tr>\n",
       "      <th>5</th>\n",
       "      <td>139620</td>\n",
       "      <td>9999</td>\n",
       "      <td>1</td>\n",
       "    </tr>\n",
       "    <tr>\n",
       "      <th>6</th>\n",
       "      <td>44760</td>\n",
       "      <td>45487</td>\n",
       "      <td>0</td>\n",
       "    </tr>\n",
       "    <tr>\n",
       "      <th>7</th>\n",
       "      <td>110633</td>\n",
       "      <td>15900</td>\n",
       "      <td>0</td>\n",
       "    </tr>\n",
       "    <tr>\n",
       "      <th>8</th>\n",
       "      <td>36342</td>\n",
       "      <td>46549</td>\n",
       "      <td>0</td>\n",
       "    </tr>\n",
       "    <tr>\n",
       "      <th>9</th>\n",
       "      <td>43538</td>\n",
       "      <td>39083</td>\n",
       "      <td>0</td>\n",
       "    </tr>\n",
       "  </tbody>\n",
       "</table>\n",
       "</div>"
      ],
      "text/plain": [
       "    miles  price  condition\n",
       "0   62631  15300          0\n",
       "1   43065  40995          0\n",
       "2   48507  43795          0\n",
       "3  111345   7995          0\n",
       "4   38772  42998          0\n",
       "5  139620   9999          1\n",
       "6   44760  45487          0\n",
       "7  110633  15900          0\n",
       "8   36342  46549          0\n",
       "9   43538  39083          0"
      ]
     },
     "execution_count": 6,
     "metadata": {},
     "output_type": "execute_result"
    }
   ],
   "source": [
    "car_df.head(10)"
   ]
  },
  {
   "cell_type": "markdown",
   "id": "e4f1c969-0126-4c87-b2a9-d3441df7c159",
   "metadata": {},
   "source": [
    "# Connecting to DB and read data for further processing"
   ]
  },
  {
   "cell_type": "code",
   "execution_count": null,
   "id": "a4f46d07-abb9-45e5-be21-fa035ffc94b4",
   "metadata": {
    "tags": []
   },
   "outputs": [],
   "source": [
    "mydb = mysql.connector.connect(\n",
    "  host=input(\"localhost db: \"),\n",
    "  user=input(\"user db: \"),\n",
    "  password=input('password db: '),\n",
    "  database=input('name of db: ')\n",
    ")\n",
    "\n",
    "cursor = mydb.cursor()\n",
    "cursor.execute(\"SHOW TABLES\")\n",
    "tables = cursor.fetchall()"
   ]
  },
  {
   "cell_type": "markdown",
   "id": "57022388-fdcf-4013-84b1-f60215805244",
   "metadata": {},
   "source": [
    "## showing available tables in DB and selecting the desired table"
   ]
  },
  {
   "cell_type": "code",
   "execution_count": 9,
   "id": "c508052d-b4df-4c6b-8693-061026592d08",
   "metadata": {
    "tags": []
   },
   "outputs": [
    {
     "name": "stdout",
     "output_type": "stream",
     "text": [
      "Available tables:\n",
      "bmwx5\n",
      "toyota\n"
     ]
    },
    {
     "name": "stdin",
     "output_type": "stream",
     "text": [
      "Enter the name of the table to retrieve:  bmwx5\n"
     ]
    }
   ],
   "source": [
    "print(\"Available tables:\")\n",
    "for table in tables:\n",
    "  print(table[0])\n",
    "\n",
    "table_name = input(\"Enter the name of the table to retrieve: \")"
   ]
  },
  {
   "cell_type": "markdown",
   "id": "aaf50c05-3487-482e-9c4f-e83324917bd4",
   "metadata": {},
   "source": [
    "## Extracting Data from DB into a DataFrame"
   ]
  },
  {
   "cell_type": "code",
   "execution_count": 10,
   "id": "07eb4d52-225e-4e00-abab-9c1717f98f2b",
   "metadata": {
    "tags": []
   },
   "outputs": [],
   "source": [
    "cursor.execute(f\"SELECT * FROM {table_name}\")\n",
    "results = cursor.fetchall()\n",
    "\n",
    "df = pd.DataFrame(results, columns=[i[0] for i in cursor.description])\n",
    "\n",
    "cursor.close()\n",
    "mydb.close()"
   ]
  },
  {
   "cell_type": "markdown",
   "id": "a2a638ec-1f46-45b7-baa5-96c69ddb5a44",
   "metadata": {},
   "source": [
    "# Training a Regression Model"
   ]
  },
  {
   "cell_type": "code",
   "execution_count": 11,
   "id": "867c43e7-a699-44c6-abf4-6623b63b18bb",
   "metadata": {
    "tags": []
   },
   "outputs": [
    {
     "name": "stdout",
     "output_type": "stream",
     "text": [
      "Root Mean Squared Error():  $5860.13\n"
     ]
    }
   ],
   "source": [
    "X_train, X_test, y_train, y_test = train_test_split(df[['miles', 'condition']], df['price'], test_size=0.2, random_state=42)\n",
    "\n",
    "model = LinearRegression()\n",
    "\n",
    "model.fit(X_train, y_train)\n",
    "\n",
    "y_pred = model.predict(X_test)\n",
    "\n",
    "mse = mean_squared_error(y_test, y_pred)\n",
    "rmse = mse ** 0.5\n",
    "print('Root Mean Squared Error():  $%.2f'%(rmse))"
   ]
  },
  {
   "cell_type": "markdown",
   "id": "0c469d6a-ab38-41f3-90e8-a8dca7b4b828",
   "metadata": {},
   "source": [
    "# Visualisation of Results"
   ]
  },
  {
   "cell_type": "code",
   "execution_count": 12,
   "id": "8876c929-e91e-4507-b74a-cd90c4165f4c",
   "metadata": {
    "tags": []
   },
   "outputs": [
    {
     "data": {
      "image/png": "[encoded data removed]",
      "text/plain": [
       "<Figure size 1200x400 with 2 Axes>"
      ]
     },
     "metadata": {},
     "output_type": "display_data"
    }
   ],
   "source": [
    "y_train_pred = model.predict(X_train)\n",
    "y_test_pred = model.predict(X_test)\n",
    "fig, axs = plt.subplots(nrows=1, ncols=2, figsize=(12, 4))\n",
    "axs[0].scatter(y_train, y_train_pred)\n",
    "axs[0].set_xlabel('Actual Price')\n",
    "axs[0].set_ylabel('Predicted Price')\n",
    "axs[0].set_title('Actual vs. Predicted Prices (Training Data)')\n",
    "xmin, xmax = axs[0].get_xlim()\n",
    "ymin, ymax = axs[0].get_ylim()\n",
    "slope, intercept, = np.polyfit(y_train, y_train_pred, 1)\n",
    "x = np.linspace(xmin, xmax, 100)\n",
    "y = slope * x + intercept\n",
    "axs[0].plot(x, y, color='r')\n",
    "\n",
    "axs[1].scatter(y_test, y_test_pred)\n",
    "axs[1].set_xlabel('Actual Price')\n",
    "axs[1].set_ylabel('Predicted Price')\n",
    "axs[1].set_title('Actual vs. Predicted Prices (Test Data)')\n",
    "xmin, xmax = axs[1].get_xlim()\n",
    "ymin, ymax = axs[1].get_ylim()\n",
    "slope, intercept, = np.polyfit(y_test, y_test_pred, 1)\n",
    "x = np.linspace(xmin, xmax, 100)\n",
    "y = slope * x + intercept\n",
    "axs[1].plot(x, y, color='r')\n",
    "\n",
    "plt.show()"
   ]
  },
  {
   "cell_type": "code",
   "execution_count": null,
   "id": "efb09709-0e7b-4e9e-bf91-6881615c894e",
   "metadata": {},
   "outputs": [],
   "source": []
  }
 ],
 "metadata": {
  "kernelspec": {
   "display_name": "Python 3 (ipykernel)",
   "language": "python",
   "name": "python3"
  },
  "language_info": {
   "codemirror_mode": {
    "name": "ipython",
    "version": 3
   },
   "file_extension": ".py",
   "mimetype": "text/x-python",
   "name": "python",
   "nbconvert_exporter": "python",
   "pygments_lexer": "ipython3",
   "version": "3.10.6"
  }
 },
 "nbformat": 4,
 "nbformat_minor": 5
}
